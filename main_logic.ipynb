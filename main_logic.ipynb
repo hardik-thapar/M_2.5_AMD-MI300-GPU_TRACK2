{
 "cells": [
  {
   "cell_type": "code",
   "execution_count": 171,
   "id": "80bf7e8c-55a4-4786-a036-5a95a8ce8581",
   "metadata": {},
   "outputs": [
    {
     "name": "stdout",
     "output_type": "stream",
     "text": [
      "Config set: http://localhost:8000/v1\n"
     ]
    }
   ],
   "source": [
    "import os\n",
    "\n",
    "BASE_URL = f\"http://localhost:8000/v1\"\n",
    "\n",
    "os.environ[\"BASE_URL\"] = BASE_URL\n",
    "os.environ[\"OPENAI_API_KEY\"] = \"abc-123\"   \n",
    "\n",
    "print(\"Config set:\", BASE_URL)"
   ]
  },
  {
   "cell_type": "code",
   "execution_count": 172,
   "id": "638c2e38-4651-49c0-90d0-7666e87cf379",
   "metadata": {},
   "outputs": [],
   "source": [
    "import json\n",
    "from datetime import datetime, timezone, timedelta\n",
    "from google.oauth2.credentials import Credentials\n",
    "from googleapiclient.discovery import build"
   ]
  },
  {
   "cell_type": "code",
   "execution_count": 173,
   "id": "17cb02de-4efb-4598-abfd-88d3f19be897",
   "metadata": {},
   "outputs": [
    {
     "name": "stdout",
     "output_type": "stream",
     "text": [
      "\u001b[33mWARNING: Running pip as the 'root' user can result in broken permissions and conflicting behaviour with the system package manager, possibly rendering your system unusable. It is recommended to use a virtual environment instead: https://pip.pypa.io/warnings/venv. Use the --root-user-action option if you know what you are doing and want to suppress this warning.\u001b[0m\u001b[33m\n",
      "\u001b[0mRequirement already satisfied: pytz in /usr/local/lib/python3.12/dist-packages (2025.2)\n",
      "\u001b[33mWARNING: Running pip as the 'root' user can result in broken permissions and conflicting behaviour with the system package manager, possibly rendering your system unusable. It is recommended to use a virtual environment instead: https://pip.pypa.io/warnings/venv. Use the --root-user-action option if you know what you are doing and want to suppress this warning.\u001b[0m\u001b[33m\n",
      "\u001b[0m"
     ]
    }
   ],
   "source": [
    "!pip install -q pydantic_ai openai\n",
    "!pip install pytz"
   ]
  },
  {
   "cell_type": "code",
   "execution_count": 192,
   "id": "f29408fa-dc59-4e08-9304-8eb9aa94ab3b",
   "metadata": {},
   "outputs": [],
   "source": [
    "from datetime import datetime\n",
    "from pydantic_ai import Tool          \n",
    "@Tool\n",
    "def get_current_date() -> str:\n",
    "    \"\"\"Return the current date/time as an ISO-formatted string.\"\"\"\n",
    "    return datetime.now().strftime(\"%Y-%m-%d %H:%M:%S\")"
   ]
  },
  {
   "cell_type": "code",
   "execution_count": 193,
   "id": "8f516340-b96f-4d85-82e3-f97a90bef8e8",
   "metadata": {},
   "outputs": [],
   "source": [
    "from typing import Annotated, List\n",
    "from pydantic_ai import Agent, Tool\n",
    "from pydantic_ai.models.openai import OpenAIModel\n",
    "from pydantic_ai.providers.openai import OpenAIProvider\n",
    "from pydantic import BaseModel, Field\n",
    "\n",
    "provider = OpenAIProvider(\n",
    "    base_url=os.environ[\"BASE_URL\"],\n",
    "    api_key=os.environ[\"OPENAI_API_KEY\"],\n",
    ")\n",
    "\n",
    "class MeetingMetadata(BaseModel):\n",
    "    participants: List[str] = Field(..., description=\"list of emails who are the participants for the meeting.\")\n",
    "    start_time: str = Field(..., description=\"A valid format of time string for the Starting point of time window\")\n",
    "    end_time: str = Field(..., description=\"A valid format of time string for the ending point of time window\")\n",
    "    meeting_duration: int = Field(..., description=\"Duration of the meeting in minutes.\")\n",
    "\n",
    "@Tool\n",
    "def get_time_window(\n",
    "    current_date: Annotated[str, \"The string formatted timestamp of current date & time\"],\n",
    "    time_constraints: Annotated[str, \"The exact date, day or time window where the call can be scheduled\"],\n",
    "    meeting_duration: Annotated[int, \"how long the call/meeting is going to occur, unit in minutes\"]\n",
    ") -> MeetingMetadata:\n",
    "    \"\"\"Based on the current_date, time_contstraints, and meeting_duration determine the date range for the required meeting timeframe (start and end date),\n",
    "        where a work week is defined as Monday to Friday only (excluding weekends).\n",
    "        - \"Next week\" always refers to the next Monday–Friday period, not 7 days from today.\n",
    "        - For example, if today is Wednesday, then next week starts from the coming Monday.\n",
    "\n",
    "        Calculate the start and end timestamps based on the current date, time_constraint and meeting duration given, keeping in mind that it is suppose to be only in work weekdays.\n",
    "        Get the current day from the input current_date and then understand the actual start date and end date.\n",
    "        Return all the following:\n",
    "            The current timestamp\n",
    "            A valid format of time string (e.g. '2025-07-14 09:00:00', '2025-07-14T03:30:00Z') for the Starting point of timewindow\n",
    "            A valid format of time string (e.g. '2025-07-14 09:00:00', '2025-07-14T03:30:00Z') for the ending point of time window\n",
    "            The time_duration for the meeting as it was in the input\n",
    "    \"\"\""
   ]
  },
  {
   "cell_type": "code",
   "execution_count": 194,
   "id": "86e7559a-ecb2-4cd4-9d68-c0020b4dde25",
   "metadata": {},
   "outputs": [],
   "source": [
    "class MeetingInfo(BaseModel):\n",
    "    participants: str = Field(..., description=\"Comma-separated emails of all participants.\")\n",
    "    time_constraints: str = Field(..., description=\"Mentioned timing or date phrase in the email.\")\n",
    "    meeting_duration: int = Field(..., description=\"Duration of the meeting in minutes.\")\n",
    "\n",
    "@Tool\n",
    "def extract_meeting_info(\n",
    "    email: Annotated[str, \"The raw email body containing meeting details.\"]\n",
    ") -> MeetingInfo:\n",
    "    \"\"\"\n",
    "        Yor are an Agent that helps in scheduling meetings.\n",
    "        Your job is to extracts Email ID's and Meeting Duration.\n",
    "        You should return :\n",
    "        1. List of email id's of participants (comma-separated).\n",
    "        2. Meeting duration in minutes.\n",
    "        3. Time constraints (e.g., 'next week').\n",
    "        If the List of email id's of participants are just names, then append @amd.com at the end and return. \n",
    "        Return as json with 'participants', 'time_constraints' & 'meeting_duration'.\n",
    "        Stricty follow the instructions. Strictly return dict with participents email id's, time constraints & meeting duration in minutes only.\n",
    "    \"\"\""
   ]
  },
  {
   "cell_type": "code",
   "execution_count": 199,
   "id": "2ca43d46-bbf3-47a1-98c6-308782a4431a",
   "metadata": {
    "editable": true,
    "slideshow": {
     "slide_type": ""
    },
    "tags": []
   },
   "outputs": [],
   "source": [
    "@Tool\n",
    "def retrive_calendar_events(user: Annotated[str, \"The mail id of each individual user.\"], \n",
    "                            start: Annotated[str, \"A valid format of time string (e.g., '2025-07-17T00:00:00+05:30') for the Starting point of timewindow\"],\n",
    "                            end: Annotated[str, \"A valid format of time string (e.g., '2025-07-17T00:00:00+05:30') for the ending point of time window\"]\n",
    "                           ) -> List[{\"StartTime\": str, \"EndTime\": str, \"NumAttendees\" : int, \"Attendees\" : List[str], \"Summary\" : str}]:\n",
    "    \"\"\"\n",
    "        Fetch Google Calendar events for a user between start and end times, the times must be in a valid iso datetime format like (e.g., '2025-07-17T00:00:00+05:30').\n",
    "        Returns a list of dicts with StartTime, EndTime, Attendees, Summary.\n",
    "    \"\"\"\n",
    "    events_list = []\n",
    "    token_path = \"../Keys/\"+user.split(\"@\")[0]+\".token\"\n",
    "    user_creds = Credentials.from_authorized_user_file(token_path)\n",
    "    calendar_service = build(\"calendar\", \"v3\", credentials=user_creds)\n",
    "    events_result = calendar_service.events().list(calendarId='primary', timeMin=start, timeMax=end, singleEvents=True,orderBy='startTime').execute()\n",
    "    events = events_result.get('items')\n",
    "    \n",
    "    for event in events : \n",
    "        attendee_list = []\n",
    "        try:\n",
    "            for attendee in event[\"attendees\"]: \n",
    "                attendee_list.append(attendee['email'])\n",
    "        except: \n",
    "            attendee_list.append(\"SELF\")\n",
    "        start_time = event[\"start\"][\"dateTime\"]\n",
    "        end_time = event[\"end\"][\"dateTime\"]\n",
    "        events_list.append(\n",
    "            {\"StartTime\" : start_time, \n",
    "             \"EndTime\": end_time, \n",
    "             \"NumAttendees\" :len(set(attendee_list)), \n",
    "             \"Attendees\" : list(set(attendee_list)),\n",
    "             \"Summary\" : event[\"summary\"]})\n",
    "    return events_list"
   ]
  },
  {
   "cell_type": "code",
   "execution_count": 200,
   "id": "7c323360-e0a0-495a-b5dd-e1a219944099",
   "metadata": {},
   "outputs": [],
   "source": [
    "from dateutil import parser\n",
    "from datetime import datetime\n",
    "import pytz\n",
    "\n",
    "@Tool\n",
    "def parse_to_iso_datetime(date_str: str, timezone_str: str = 'Asia/Kolkata') -> str:\n",
    "    \"\"\"\n",
    "    Converts any human-readable date-time string to ISO format with timezone offset.\n",
    "    \n",
    "    Args:\n",
    "        date_str (str): Input date-time string (e.g., 'next Thursday', 'July 17, 2025').\n",
    "        timezone_str (str): Timezone name (default: 'Asia/Kolkata').\n",
    "        \n",
    "    Returns:\n",
    "        str: ISO formatted date-time string with offset (e.g., '2025-07-17T00:00:00+05:30').\n",
    "    \"\"\"\n",
    "    # Parse to naive datetime\n",
    "    dt_naive = parser.parse(date_str, fuzzy=True)\n",
    "\n",
    "    # Attach timezone\n",
    "    tz = pytz.timezone(timezone_str)\n",
    "    dt_localized = tz.localize(dt_naive)\n",
    "\n",
    "    # Return ISO string with offset\n",
    "    return dt_localized.isoformat()"
   ]
  },
  {
   "cell_type": "code",
   "execution_count": 201,
   "id": "c12f722b-f73e-4777-b9d2-3b9506d6b379",
   "metadata": {
    "editable": true,
    "slideshow": {
     "slide_type": ""
    },
    "tags": []
   },
   "outputs": [],
   "source": [
    "agent_model = OpenAIModel(\"Qwen3-8b\", provider=provider)\n",
    "\n",
    "agent = Agent(\n",
    "    model=agent_model,\n",
    "    tools=[extract_meeting_info, get_current_date, get_avl_time_window, convert_to_local_timezone, retrive_calendar_events],\n",
    "    system_prompt = \"\"\"\n",
    "    You are an AI agent that assists with meeting scheduling.\n",
    "        Your tools include:\n",
    "            - extract_meeting_info(email)\n",
    "            - get_current_time()\n",
    "            - get_time_window()\n",
    "            - parse_to_iso_datetime()\n",
    "            - retrive_calendar_events()\n",
    "\n",
    "        Your task is to:\n",
    "            1. Parse the email\n",
    "            2. Determine the current date\n",
    "            3. Find out the required meeting timeframe using get_time_window\n",
    "            4. Convert the requried timeframe to a proper time format\n",
    "            5. Retrive the calendar events for the attendees and suggest a correct time for the meeting\n",
    "    \"\"\"\n",
    ")"
   ]
  },
  {
   "cell_type": "code",
   "execution_count": 202,
   "id": "379d84ff-66fd-4e26-9fed-0e12136d734b",
   "metadata": {
    "editable": true,
    "slideshow": {
     "slide_type": ""
    },
    "tags": []
   },
   "outputs": [
    {
     "data": {
      "text/plain": [
       "\"\\n\\nBased on the attendees' calendars, here's the analysis:\\n\\n**Attendees:**\\n1. usertwo.amd@gmail.com\\n2. userthree.amd@gmail.com\\n\\n**Key Findings:**\\n- **Next Thursday (July 17, 2025)** is the requested day, but both attendees have conflicts:\\n  - **usertwo** has an urgent meeting from 10:00-10:30 AM\\n  - **userthree**'s calendar isn't checked in this analysis\\n\\n**Available Window:**\\n- **July 14-18, 2025** (as calculated)\\n- **Best time:** 9:00 AM - 9:30 AM on July 14 (before usertwo's Off Hours start at 6:00 PM)\\n\\n**Recommendation:**\\nPropose **July 14, 2025 at 9:00 AM** (9:00-9:30 AM). Check userthree's calendar for confirmation. If they're available, this time works; otherwise, consider July 15 (before 9:00 AM).\""
      ]
     },
     "execution_count": 202,
     "metadata": {},
     "output_type": "execute_result"
    }
   ],
   "source": [
    "import asyncio\n",
    "from pydantic_ai.mcp import MCPServerStdio\n",
    "async def run_async(prompt: str) -> str:\n",
    "    async with agent.run_mcp_servers():\n",
    "        result = await agent.run(prompt)\n",
    "        return result.output\n",
    "\n",
    "email_text = \"\"\"\n",
    "Hi team, let's meet on Thursday for 30 minutes to discuss the status of Agentic AI Project. \n",
    "Attendees: \"usertwo.amd@gmail.com\", \"userthree.amd@gmail.com\"\n",
    "\"\"\"\n",
    "\n",
    "await run_async(f\"Suggest a time for meeting as per the following email based on both the attendees's availability:\\n\\n{email_text}\")"
   ]
  },
  {
   "cell_type": "code",
   "execution_count": null,
   "id": "abb90b45-882a-4e0b-a6bf-d0ec4943937a",
   "metadata": {},
   "outputs": [],
   "source": []
  }
 ],
 "metadata": {
  "kernelspec": {
   "display_name": "Python 3 (ipykernel)",
   "language": "python",
   "name": "python3"
  },
  "language_info": {
   "codemirror_mode": {
    "name": "ipython",
    "version": 3
   },
   "file_extension": ".py",
   "mimetype": "text/x-python",
   "name": "python",
   "nbconvert_exporter": "python",
   "pygments_lexer": "ipython3",
   "version": "3.12.10"
  }
 },
 "nbformat": 4,
 "nbformat_minor": 5
}
